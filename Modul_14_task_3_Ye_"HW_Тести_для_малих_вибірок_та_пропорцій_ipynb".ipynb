{
  "cells": [
    {
      "cell_type": "markdown",
      "id": "e152f6d6",
      "metadata": {
        "ExecuteTime": {
          "end_time": "2022-12-10T14:29:24.703416Z",
          "start_time": "2022-12-10T14:29:24.688485Z"
        },
        "id": "e152f6d6"
      },
      "source": [
        "# Тести для малих вибірок та пропорцій\n",
        "\n"
      ]
    },
    {
      "cell_type": "markdown",
      "id": "abdcef5d",
      "metadata": {
        "id": "abdcef5d"
      },
      "source": [
        "**Завдання 1**. E-commerce компанія після редизайну сайту підозрює, що **середній час до покупки (time-to-purchase)** користувачів **збільшився**.\n",
        "Історично середній час від першого заходу на сайт до покупки становив $\\mu_0 = 123.7$ хвилин.\n",
        "\n",
        "Команда аналітиків випадково обрала дані **7 покупців після редизайну**:\n",
        "`128, 135, 121, 142, 126, 151, 123`\n",
        "\n",
        "З допомогою наявних даних зʼясуйте, чи збільшився середній час покупки після редизайну.\n",
        "\n",
        "Для цього виконайте наступні 6 кроків. Правильне виконання кожного з кроків оцінюється в 1 бал.\n",
        "\n",
        "1. Запишіть нульову та альтернативну гіпотези і визначте тип тесту.\n",
        "2. Обчисліть вибіркові статистики: $\\bar x$, $s$, $n$.\n",
        "3. Оберіть тип тесту та виконайте його (знайдіть критичне значення тесту, статистику тесту та р-значення) будь-яким пасуючим способом, щоб перевірити гіпотезу на рівні значущості $\\alpha = 0.10$.\n",
        "4. Прийміть рішення, чи відхиляєте ви гіпотезу $H_0$ використовуючи p-value.\n",
        "5. Напишіть висновок: чи справді редизайн сайту подовжив час до покупки?\n",
        "6. Чи зміниться ваше рішення при зміні рівня значущості на $\\alpha = 0.05$.\n"
      ]
    },
    {
      "cell_type": "markdown",
      "source": [
        "Ho = 123.7\n",
        "\n",
        "Ha > 123,7\n",
        "\n",
        "тест правосторонній"
      ],
      "metadata": {
        "id": "WGAn5uZGlObi"
      },
      "id": "WGAn5uZGlObi"
    },
    {
      "cell_type": "code",
      "source": [
        "import numpy as np\n",
        "from scipy import stats"
      ],
      "metadata": {
        "id": "W9TltdxzmGSa"
      },
      "id": "W9TltdxzmGSa",
      "execution_count": 1,
      "outputs": []
    },
    {
      "cell_type": "code",
      "source": [
        "redesing = np.array([128, 135, 121, 142, 126, 151, 123])\n",
        "mu0 = 123.7\n"
      ],
      "metadata": {
        "id": "BcS4cm11QYpT"
      },
      "id": "BcS4cm11QYpT",
      "execution_count": 3,
      "outputs": []
    },
    {
      "cell_type": "code",
      "source": [
        "x_avg = np.mean(redesing)\n",
        "s = np.std (redesing, ddof=1)\n",
        "n = len(redesing)\n"
      ],
      "metadata": {
        "id": "7Fionz5Pmuk9"
      },
      "id": "7Fionz5Pmuk9",
      "execution_count": 4,
      "outputs": []
    },
    {
      "cell_type": "code",
      "source": [
        "print ('Вибіркове середнє = ',x_avg.round(2))\n",
        "print ('Вибіркове стандартне відхилення = ',s.round(2))\n",
        "print ('Кількість значень ',n)"
      ],
      "metadata": {
        "colab": {
          "base_uri": "https://localhost:8080/"
        },
        "id": "TX-q_hRhngcZ",
        "outputId": "e3004a61-6f25-4fd0-c351-a2bb53f7fd21"
      },
      "id": "TX-q_hRhngcZ",
      "execution_count": 6,
      "outputs": [
        {
          "output_type": "stream",
          "name": "stdout",
          "text": [
            "Вибіркове середнє =  132.29\n",
            "Вибіркове стандартне відхилення =  10.98\n",
            "Кількість значень  7\n"
          ]
        }
      ]
    },
    {
      "cell_type": "code",
      "source": [
        "alpha = 0.1"
      ],
      "metadata": {
        "id": "_I-6lg5qohBi"
      },
      "id": "_I-6lg5qohBi",
      "execution_count": 7,
      "outputs": []
    },
    {
      "cell_type": "code",
      "source": [
        "# scipy тест\n",
        "calc = stats.ttest_1samp(redesing, popmean=mu0, alternative=\"greater\")\n",
        "print ('scipy тест')\n",
        "print ('t - статистика =', calc.statistic.round(4))\n",
        "print ('p-value =', calc.pvalue.round(4))"
      ],
      "metadata": {
        "colab": {
          "base_uri": "https://localhost:8080/"
        },
        "id": "V6rDYSlhpkm9",
        "outputId": "2153a823-7210-4751-e58d-875d5407a457"
      },
      "id": "V6rDYSlhpkm9",
      "execution_count": 12,
      "outputs": [
        {
          "output_type": "stream",
          "name": "stdout",
          "text": [
            "scipy тест\n",
            "t - статистика = 2.0687\n",
            "p-value = 0.042\n"
          ]
        }
      ]
    },
    {
      "cell_type": "code",
      "source": [
        "# висновок на основі р-значення\n",
        "if calc.pvalue < alpha:\n",
        "    print(f\"Відхиляємо Ho: середній час на редізайн збільшився на рівні значущості {alpha}\")\n",
        "else:\n",
        "    print(\"Не відхиляємо H0: доказів недостатньо\")"
      ],
      "metadata": {
        "colab": {
          "base_uri": "https://localhost:8080/"
        },
        "id": "uvTqF37yrPL_",
        "outputId": "e9379c25-f42c-46ac-a69f-81d52e0730df"
      },
      "id": "uvTqF37yrPL_",
      "execution_count": 14,
      "outputs": [
        {
          "output_type": "stream",
          "name": "stdout",
          "text": [
            "Відхиляємо Ho: середній час на редізайн збільшився на рівні значущості 0.1\n"
          ]
        }
      ]
    },
    {
      "cell_type": "code",
      "source": [
        "alpha1 = 0.05\n"
      ],
      "metadata": {
        "id": "pKC8pBDVwtMp"
      },
      "id": "pKC8pBDVwtMp",
      "execution_count": 15,
      "outputs": []
    },
    {
      "cell_type": "code",
      "source": [
        "# висновок на основі р-значення\n",
        "if calc.pvalue < alpha1:\n",
        "    print(f\"Відхиляємо Ho: середній час на редізайн збільшився на рівні значущості {alpha1}\")\n",
        "else:\n",
        "    print(\"Не відхиляємо H0: доказів недостатньо\")"
      ],
      "metadata": {
        "colab": {
          "base_uri": "https://localhost:8080/"
        },
        "id": "H6lz23opwyl4",
        "outputId": "63d98007-35e5-4d4b-8140-637ef4ac36a6"
      },
      "id": "H6lz23opwyl4",
      "execution_count": 16,
      "outputs": [
        {
          "output_type": "stream",
          "name": "stdout",
          "text": [
            "Відхиляємо Ho: середній час на редізайн збільшився на рівні значущості 0.05\n"
          ]
        }
      ]
    },
    {
      "cell_type": "markdown",
      "source": [
        "і при рівні значущості альфа 0,1, і при альфа 0,05 значення p-value (0,042) менше, тобто дійсно середній час до покупки збільшився"
      ],
      "metadata": {
        "id": "VQV0jjTxxddx"
      },
      "id": "VQV0jjTxxddx"
    },
    {
      "cell_type": "markdown",
      "source": [
        "**Завдання 2.**\n",
        "\n",
        "До спеціальної рекламної кампанії **23%** дорослих упізнавали логотип компанії. Після завершення кампанії відділ маркетингу провів опитування: з **1200** випадково відібраних дорослих **311** упізнали логотип.\n",
        "\n",
        "Перевірте на рівні значущості **3%** ($\\alpha=0.03$), чи дають ці дані достатні підстави стверджувати, що **тепер більше ніж 23%** дорослих упізнають логотип компанії. Для розвʼязку використовуйте бібліотеку `statsmodels`.\n",
        "\n",
        "Зробіть висновок, чи зросла впізнаваність логотипу.\n",
        "\n",
        "Додатково, обчисліть довірчий інтревал на заданому рівні значущості і проінтерпретуйте текстом - як він додатково пояснює прийняте нами рішення?"
      ],
      "metadata": {
        "id": "5govLcx8FPSl"
      },
      "id": "5govLcx8FPSl"
    },
    {
      "cell_type": "code",
      "source": [
        "import statsmodels.api as sm\n",
        "from statsmodels.stats.proportion import proportions_ztest, proportion_confint"
      ],
      "metadata": {
        "id": "rcplRfotId51"
      },
      "id": "rcplRfotId51",
      "execution_count": 17,
      "outputs": []
    },
    {
      "cell_type": "code",
      "source": [
        "count = 311\n",
        "nobs = 1200\n",
        "p0 = 0.23\n",
        "alpha_task2 = 0.03\n",
        "\n",
        "# z-тест для пропорції\n",
        "z_stat, p_val = proportions_ztest(count, nobs, p0, alternative='larger')"
      ],
      "metadata": {
        "id": "ChS1RB2XySZf"
      },
      "id": "ChS1RB2XySZf",
      "execution_count": 34,
      "outputs": []
    },
    {
      "cell_type": "code",
      "source": [
        "print(\"Тест для однієї пропорції\")\n",
        "print('Z-статистика = ', z_stat.round(4))\n",
        "print('p-value = ',p_val.round(4))"
      ],
      "metadata": {
        "colab": {
          "base_uri": "https://localhost:8080/"
        },
        "id": "mpk1o3byzShR",
        "outputId": "5ec4c6d6-32e2-4366-df2b-a3d8fba127de"
      },
      "id": "mpk1o3byzShR",
      "execution_count": 31,
      "outputs": [
        {
          "output_type": "stream",
          "name": "stdout",
          "text": [
            "Тест для однієї пропорції\n",
            "Z-статистика =  2.3058\n",
            "p-value =  0.0106\n"
          ]
        }
      ]
    },
    {
      "cell_type": "markdown",
      "source": [
        "Ho = 23%\n",
        "\n",
        "Ha > 23%\n",
        "\n",
        "рівень значущості 0,03\n",
        "\n",
        "Оскільки  p-value=0.0106 < 0.03 , відхиляємо  Ho . Є статистично значущі докази, що після проведення маркетингової кампанії, логотип компанії узнають більше, ніж 23% людей"
      ],
      "metadata": {
        "id": "jij2VRshzj2i"
      },
      "id": "jij2VRshzj2i"
    },
    {
      "cell_type": "code",
      "source": [
        "confint = proportion_confint(count, nobs, alpha=alpha_task2, method='normal')\n",
        "print(f\"97% довірчий інтервал: {confint}\")"
      ],
      "metadata": {
        "colab": {
          "base_uri": "https://localhost:8080/"
        },
        "id": "_JJzuUhL03EK",
        "outputId": "c764181b-de61-4e69-fbc3-6868e1b42e1f"
      },
      "id": "_JJzuUhL03EK",
      "execution_count": 40,
      "outputs": [
        {
          "output_type": "stream",
          "name": "stdout",
          "text": [
            "97% довірчий інтервал: (0.23171700302179205, 0.28661633031154127)\n"
          ]
        }
      ]
    },
    {
      "cell_type": "markdown",
      "source": [
        "97% довірчий інтервал (0.2317, 0.0,2866)\n",
        "\n",
        "Ніжня межа довірчого інтервалу 23,17%, що підтверджує, що рекламна кампанія принесла результати і логотип пізнають більше ніж 23% людей\n"
      ],
      "metadata": {
        "id": "qnGKhgWO1OEL"
      },
      "id": "qnGKhgWO1OEL"
    }
  ],
  "metadata": {
    "hide_input": false,
    "kernelspec": {
      "display_name": "Python 3 (ipykernel)",
      "language": "python",
      "name": "python3"
    },
    "language_info": {
      "codemirror_mode": {
        "name": "ipython",
        "version": 3
      },
      "file_extension": ".py",
      "mimetype": "text/x-python",
      "name": "python",
      "nbconvert_exporter": "python",
      "pygments_lexer": "ipython3",
      "version": "3.11.3"
    },
    "toc": {
      "base_numbering": 1,
      "nav_menu": {},
      "number_sections": true,
      "sideBar": true,
      "skip_h1_title": false,
      "title_cell": "Table of Contents",
      "title_sidebar": "Contents",
      "toc_cell": false,
      "toc_position": {},
      "toc_section_display": true,
      "toc_window_display": false
    },
    "varInspector": {
      "cols": {
        "lenName": 16,
        "lenType": 16,
        "lenVar": 40
      },
      "kernels_config": {
        "python": {
          "delete_cmd_postfix": "",
          "delete_cmd_prefix": "del ",
          "library": "var_list.py",
          "varRefreshCmd": "print(var_dic_list())"
        },
        "r": {
          "delete_cmd_postfix": ") ",
          "delete_cmd_prefix": "rm(",
          "library": "var_list.r",
          "varRefreshCmd": "cat(var_dic_list()) "
        }
      },
      "types_to_exclude": [
        "module",
        "function",
        "builtin_function_or_method",
        "instance",
        "_Feature"
      ],
      "window_display": false
    },
    "colab": {
      "provenance": []
    }
  },
  "nbformat": 4,
  "nbformat_minor": 5
}