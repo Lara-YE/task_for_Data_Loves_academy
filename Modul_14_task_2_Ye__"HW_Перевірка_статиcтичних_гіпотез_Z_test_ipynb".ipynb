{
  "cells": [
    {
      "cell_type": "markdown",
      "id": "e152f6d6",
      "metadata": {
        "ExecuteTime": {
          "end_time": "2022-12-10T14:29:24.703416Z",
          "start_time": "2022-12-10T14:29:24.688485Z"
        },
        "id": "e152f6d6"
      },
      "source": [
        "#Перевірка статиcтичних гіпотез. Z-test.\n",
        "\n"
      ]
    },
    {
      "cell_type": "markdown",
      "id": "cd404683",
      "metadata": {
        "id": "cd404683"
      },
      "source": [
        "0. Зчитайте дані з `data.csv` у змінну data, яка має тип pandas.DataFrame. Ми будемо далі працювати з цією змінною."
      ]
    },
    {
      "cell_type": "code",
      "source": [
        "import pandas as pd\n",
        "import numpy as np\n",
        "from scipy import stats"
      ],
      "metadata": {
        "id": "OLFWO_ju173a"
      },
      "id": "OLFWO_ju173a",
      "execution_count": 5,
      "outputs": []
    },
    {
      "cell_type": "code",
      "source": [
        "from google.colab import drive\n",
        "drive.mount('/content/drive')"
      ],
      "metadata": {
        "colab": {
          "base_uri": "https://localhost:8080/"
        },
        "id": "rChyolqc2Cld",
        "outputId": "614e3d4b-a474-43e0-ca91-5f864e9dffe4"
      },
      "id": "rChyolqc2Cld",
      "execution_count": 2,
      "outputs": [
        {
          "output_type": "stream",
          "name": "stdout",
          "text": [
            "Mounted at /content/drive\n"
          ]
        }
      ]
    },
    {
      "cell_type": "code",
      "execution_count": 3,
      "id": "b20b6ba2",
      "metadata": {
        "id": "b20b6ba2"
      },
      "outputs": [],
      "source": [
        "df_static = pd.read_csv ('/content/drive/MyDrive/Colab Notebooks/Data/data.csv')"
      ]
    },
    {
      "cell_type": "markdown",
      "id": "3d06cbbf",
      "metadata": {
        "id": "3d06cbbf"
      },
      "source": [
        "Запустіть код нижче. Для коректної робити всіх подальших методів дані мають бути у вигляді одновимірного `numpy.ndarray` вектора та мати розмірність (100,). Така розмірність означає, що дані - одновимірні (колонка), якщо б розмірність була (100, 1), то дані сприймаються методами як двовимірні (таблиця), хоча для нас виглядати можуть так само."
      ]
    },
    {
      "cell_type": "code",
      "execution_count": 4,
      "id": "cce1632b",
      "metadata": {
        "id": "cce1632b",
        "colab": {
          "base_uri": "https://localhost:8080/"
        },
        "outputId": "ce2b0163-92ae-4b4f-d5fc-cac887721fb7"
      },
      "outputs": [
        {
          "output_type": "execute_result",
          "data": {
            "text/plain": [
              "(100,)"
            ]
          },
          "metadata": {},
          "execution_count": 4
        }
      ],
      "source": [
        "data = df_static.data.values\n",
        "data.shape"
      ]
    },
    {
      "cell_type": "markdown",
      "id": "abdcef5d",
      "metadata": {
        "id": "abdcef5d"
      },
      "source": [
        "**Завдання 1**. Зчитані дані - це сума покупок в доларах наших покупців на сайті протягом липня 2025 року.\n",
        "\n",
        "До цього місяця, ми мали продажі в середньому на чек $20.\n",
        "\n",
        "Необхідно зʼясувати, чи вийшло у нас статистично значущо **підвищити** середній чек за липень 2025?\n",
        "\n",
        "Аби дати відповідь - ми проведемо z-test на рівні значущості $\\alpha=0.05$ двома способами. В цьому завданні ми будемо виконувати обчислення \"вручну\" з використанням бібліотек numpy та scipy.stats подібно до прикладу в лекції. Для цього виконайте наступні 7 кроків. Правильне виконання кожного з кроків оцінюється в 1 бал.\n",
        "\n",
        "1. Запишіть параметри задачі у змінні Python:\n",
        "    - `sample_mean` - $\\bar{x}$, середнє значення в вибірці\n",
        "    - `population_mean` - $\\mu_0$, середнє значення в популяції (тобто те, з яким ми порівнюємо середнє вибіркове значення)\n",
        "    - `population_std` - $\\sigma$, вибіркове стандартне відхилення, яке ми вважаємо, що є рівним ст. відх. популяції, адже маємо достатньо велику вибірку.\n",
        "    - `sample_size` - $n$, розмір вибірки\n",
        "    - `alpha` - $\\alpha$ рівень значущості\n",
        "    \n",
        "    **Увага!** Для обчислення стандартного відхилення маємо скористатись функцією `np.std(your_dataframe, ddof=1)`. Чому так - розбираємо в лекції про t-test.\n",
        "\n",
        "\n",
        "2. Визначте для цієї задачі:\n",
        "    - якою є гіпотеза $H_0$\n",
        "    - якою є альтернативна гіпотеза $H_a$\n",
        "    - з яким типом тесту ми маємо справу - лівосторонній, правосторонній чи двосторонній.\n",
        "\n",
        "3. Обчисліть стандартну помилку SE.\n",
        "4. Розрахуйте z-статистику.\n",
        "5. Знайдіть критичне z-значення з допомогою бібліотеки stats.\n",
        "6. Обчисліть p-value з допомогою бібліотеки stats.\n",
        "7. Прийміть рішення, чи відхиляєте ви гіпотезу $H_0$. Для прийняття рішення зробіть і порівняння z-статистики з критичним значенням, і проаналізуйте p-value."
      ]
    },
    {
      "cell_type": "code",
      "source": [
        "# Розраховуємо відомі параметри\n",
        "sample_mean = data.mean()\n",
        "population_mean = 20\n",
        "population_std = np.std(data, ddof=1)\n",
        "sample_size = data.size\n",
        "alpha = 0.05"
      ],
      "metadata": {
        "id": "NX2XezWLdf4t"
      },
      "id": "NX2XezWLdf4t",
      "execution_count": 38,
      "outputs": []
    },
    {
      "cell_type": "code",
      "source": [
        "#вивід значень\n",
        "print ('sample_mean = ', sample_mean.round(4))\n",
        "print ('population_mean = ', population_mean)\n",
        "print ('population_std = ', population_std.round (4))\n",
        "print ('sample_size = ', sample_size)\n",
        "print ('alpha = ', alpha)"
      ],
      "metadata": {
        "colab": {
          "base_uri": "https://localhost:8080/"
        },
        "id": "i6yPU81j9xcs",
        "outputId": "df05b432-85ea-46ec-ab2d-a18d80f90462"
      },
      "id": "i6yPU81j9xcs",
      "execution_count": 40,
      "outputs": [
        {
          "output_type": "stream",
          "name": "stdout",
          "text": [
            "sample_mean =  19.3776\n",
            "population_mean =  20\n",
            "population_std =  6.2536\n",
            "sample_size =  100\n",
            "alpha =  0.05\n"
          ]
        }
      ]
    },
    {
      "cell_type": "markdown",
      "source": [
        "H0 = 20,\n",
        "\n",
        "Ha > 20\n",
        "\n",
        "тест правосторонній"
      ],
      "metadata": {
        "id": "I2RLdCLn-sQU"
      },
      "id": "I2RLdCLn-sQU"
    },
    {
      "cell_type": "code",
      "source": [
        "#обчислюємо стандартну помилку\n",
        "SE = population_std / np.sqrt(sample_size)\n",
        "print ('SE = ', SE.round(4))"
      ],
      "metadata": {
        "colab": {
          "base_uri": "https://localhost:8080/"
        },
        "id": "yJK3HaxRHRO7",
        "outputId": "d1741330-b08a-43a8-9f85-783bc6038d38"
      },
      "id": "yJK3HaxRHRO7",
      "execution_count": 41,
      "outputs": [
        {
          "output_type": "stream",
          "name": "stdout",
          "text": [
            "SE =  0.6254\n"
          ]
        }
      ]
    },
    {
      "cell_type": "code",
      "source": [
        "# розраховуємо z - статистику\n",
        "z_statistic = (sample_mean - population_mean) / SE\n",
        "print('Z_statistic =', z_statistic.round (4))"
      ],
      "metadata": {
        "colab": {
          "base_uri": "https://localhost:8080/"
        },
        "id": "SCch0PGdH0xX",
        "outputId": "0de35bd6-2c78-4874-b3e1-9199f32e3212"
      },
      "id": "SCch0PGdH0xX",
      "execution_count": 42,
      "outputs": [
        {
          "output_type": "stream",
          "name": "stdout",
          "text": [
            "Z_statistic = -0.9953\n"
          ]
        }
      ]
    },
    {
      "cell_type": "code",
      "source": [
        "# розраховуємо критичне z - значення\n",
        "z_critical = stats.norm.ppf(1 - alpha)\n",
        "print('Z_critical =', z_critical.round (4))"
      ],
      "metadata": {
        "colab": {
          "base_uri": "https://localhost:8080/"
        },
        "id": "ShZRqkKnIZWx",
        "outputId": "a6e26005-a044-4a70-c22f-1305d31fc775"
      },
      "id": "ShZRqkKnIZWx",
      "execution_count": 43,
      "outputs": [
        {
          "output_type": "stream",
          "name": "stdout",
          "text": [
            "Z_critical = 1.6449\n"
          ]
        }
      ]
    },
    {
      "cell_type": "code",
      "source": [
        "# розраховуємо критичне p - value\n",
        "p_value = 1 - stats.norm.cdf(z_statistic)\n",
        "print('p_value =', p_value.round (4))"
      ],
      "metadata": {
        "colab": {
          "base_uri": "https://localhost:8080/"
        },
        "id": "ud8AvHDpK7oO",
        "outputId": "55f5a4c3-b36a-4040-c243-cdb703454c8e"
      },
      "id": "ud8AvHDpK7oO",
      "execution_count": 44,
      "outputs": [
        {
          "output_type": "stream",
          "name": "stdout",
          "text": [
            "p_value = 0.8402\n"
          ]
        }
      ]
    },
    {
      "cell_type": "code",
      "source": [
        "print(\"Порівняння z-статистики з критичним значенням\")\n",
        "print()\n",
        "print('Z_statistic =', z_statistic.round (4))\n",
        "print('Z_critical =', z_critical.round (4))\n",
        "print(f\"Порівняння: {z_statistic.round (4)} {'>' if z_statistic > z_critical else '≤'} {z_critical.round (4)}\")\n",
        "\n",
        "if z_statistic > z_critical:\n",
        "    print(\"Висновок: z-статистика ПЕРЕВИЩУЄ критичне значення\")\n",
        "    decision1 = \"ВІДХИЛЯЄМО H₀\"\n",
        "else:\n",
        "    print(\"Висновок: z-статистика НЕ перевищує критичне значення\")\n",
        "    decision1 = \"НЕ ВІДХИЛЯЄМО H₀\"\n",
        "\n",
        "print(f\"Рішення: {decision1}\")"
      ],
      "metadata": {
        "colab": {
          "base_uri": "https://localhost:8080/"
        },
        "id": "iy_B-Zg_LRnk",
        "outputId": "ff050a33-b82c-4a26-99cd-93cefbb36fac"
      },
      "id": "iy_B-Zg_LRnk",
      "execution_count": 45,
      "outputs": [
        {
          "output_type": "stream",
          "name": "stdout",
          "text": [
            "Порівняння z-статистики з критичним значенням\n",
            "\n",
            "Z_statistic = -0.9953\n",
            "Z_critical = 1.6449\n",
            "Порівняння: -0.9953 ≤ 1.6449\n",
            "Висновок: z-статистика НЕ перевищує критичне значення\n",
            "Рішення: НЕ ВІДХИЛЯЄМО H₀\n"
          ]
        }
      ]
    },
    {
      "cell_type": "code",
      "source": [
        "print(\"Порівняння p-value з рівнем значущості\")\n",
        "print()\n",
        "print('p_value =', p_value.round (4))\n",
        "print(f\"Рівень значущості α = {alpha}\")\n",
        "print(f\"Порівняння: {p_value.round(4)} {'<' if p_value < alpha else '≥'} {alpha}\")\n",
        "\n",
        "if p_value < alpha:\n",
        "    print(\"Висновок: p-value МЕНШЕ за рівень значущості\")\n",
        "    decision2 = \"ВІДХИЛЯЄМО H₀\"\n",
        "else:\n",
        "    print(\"Висновок: p-value НЕ менше за рівень значущості\")\n",
        "    decision2 = \"НЕ ВІДХИЛЯЄМО H₀\"\n",
        "\n",
        "print(f\"Рішення: {decision2}\")"
      ],
      "metadata": {
        "colab": {
          "base_uri": "https://localhost:8080/"
        },
        "id": "FnGm0yLsMKFW",
        "outputId": "4353ec33-cc64-4541-c8b9-2d0ab66f8354"
      },
      "id": "FnGm0yLsMKFW",
      "execution_count": 46,
      "outputs": [
        {
          "output_type": "stream",
          "name": "stdout",
          "text": [
            "Порівняння p-value з рівнем значущості\n",
            "\n",
            "p_value = 0.8402\n",
            "Рівень значущості α = 0.05\n",
            "Порівняння: 0.8402 ≥ 0.05\n",
            "Висновок: p-value НЕ менше за рівень значущості\n",
            "Рішення: НЕ ВІДХИЛЯЄМО H₀\n"
          ]
        }
      ]
    },
    {
      "cell_type": "markdown",
      "source": [
        "H₀ не відхиляємо, так як z - статистика (-0,9953) не перевищує z - критичне (1,645) і p-value (0,8402) не менше alpha =  0.05\n",
        "\n"
      ],
      "metadata": {
        "id": "r3xDCT5uNkSf"
      },
      "id": "r3xDCT5uNkSf"
    },
    {
      "cell_type": "markdown",
      "source": [
        "**Завдання 2.** Виконайте обчислення z-test з використанням бібліотеки statsmodels.\n",
        "\n",
        "Отримайте z-статистику та р-значення.\n",
        "\n",
        "Виведіть p-значення та зробіть висновок, чи ми маємо достатньо доказів, аби стверджувати, що середній чек зріс.\n",
        "\n",
        "Чи зійшлись значення z-статистику та р-значення в цьому завданні з попередніми обчисленнями?\n",
        "\n",
        "Завдання оцінюється в 3 бали."
      ],
      "metadata": {
        "id": "0FOBByRMXkL2"
      },
      "id": "0FOBByRMXkL2"
    },
    {
      "cell_type": "code",
      "source": [
        "from statsmodels.stats import weightstats as stests\n"
      ],
      "metadata": {
        "id": "f_Oa0DJhdg6v"
      },
      "id": "f_Oa0DJhdg6v",
      "execution_count": 33,
      "outputs": []
    },
    {
      "cell_type": "code",
      "source": [
        "z_stat, p_val = stests.ztest(data,\n",
        "                            value=population_mean,\n",
        "                            alternative='larger')\n",
        "\n",
        "print(f\"Результати z-тесту:\")\n",
        "print(f\"  Z-статистика: {z_stat.round(4)}\")\n",
        "print(f\"  P-value: {p_val.round(4)}\")\n",
        "print()"
      ],
      "metadata": {
        "colab": {
          "base_uri": "https://localhost:8080/"
        },
        "id": "KqVDv_hQO7ga",
        "outputId": "8c53e96d-1862-429c-99f2-b7d2e6bd0a28"
      },
      "id": "KqVDv_hQO7ga",
      "execution_count": 49,
      "outputs": [
        {
          "output_type": "stream",
          "name": "stdout",
          "text": [
            "Результати z-тесту:\n",
            "  Z-статистика: -0.9953\n",
            "  P-value: 0.8402\n",
            "\n"
          ]
        }
      ]
    },
    {
      "cell_type": "code",
      "source": [
        "print(\"Порівняння p-value з рівнем значущості\")\n",
        "print()\n",
        "print('p_value =', p_val.round (4))\n",
        "print(f\"Рівень значущості α = {alpha}\")\n",
        "print(f\"Порівняння: {p_val.round(4)} {'<' if p_val < alpha else '≥'} {alpha}\")\n",
        "\n",
        "if p_val < alpha:\n",
        "    print(\"Висновок: p-value МЕНШЕ за рівень значущості\")\n",
        "    decision2 = \"ВІДХИЛЯЄМО H₀\"\n",
        "else:\n",
        "    print(\"Висновок: p-value НЕ менше за рівень значущості\")\n",
        "    decision2 = \"НЕ ВІДХИЛЯЄМО H₀\"\n",
        "\n",
        "print(f\"Рішення: {decision2}\")"
      ],
      "metadata": {
        "colab": {
          "base_uri": "https://localhost:8080/"
        },
        "id": "2bXj1Ojgh0gv",
        "outputId": "bc9da6ab-dbd6-440e-e6a9-3dc325a6b42c"
      },
      "id": "2bXj1Ojgh0gv",
      "execution_count": 50,
      "outputs": [
        {
          "output_type": "stream",
          "name": "stdout",
          "text": [
            "Порівняння p-value з рівнем значущості\n",
            "\n",
            "p_value = 0.8402\n",
            "Рівень значущості α = 0.05\n",
            "Порівняння: 0.8402 ≥ 0.05\n",
            "Висновок: p-value НЕ менше за рівень значущості\n",
            "Рішення: НЕ ВІДХИЛЯЄМО H₀\n"
          ]
        }
      ]
    },
    {
      "cell_type": "markdown",
      "source": [
        "не відхиляємо нульову гіпотезу.\n",
        "\n",
        "так як p-value (0.8402) суттєво перевищує рівень значущості альфа(0.05), тому у нас немає достатніх статистичних доказів, щоб стверджувати, що середній чек у липні 2025 року зріс."
      ],
      "metadata": {
        "id": "SYqd6TSFgGym"
      },
      "id": "SYqd6TSFgGym"
    },
    {
      "cell_type": "markdown",
      "source": [
        "Дані з першим завданням повністю зійшлися"
      ],
      "metadata": {
        "id": "kexSBabhho5U"
      },
      "id": "kexSBabhho5U"
    }
  ],
  "metadata": {
    "hide_input": false,
    "kernelspec": {
      "display_name": "Python 3 (ipykernel)",
      "language": "python",
      "name": "python3"
    },
    "language_info": {
      "codemirror_mode": {
        "name": "ipython",
        "version": 3
      },
      "file_extension": ".py",
      "mimetype": "text/x-python",
      "name": "python",
      "nbconvert_exporter": "python",
      "pygments_lexer": "ipython3",
      "version": "3.11.3"
    },
    "toc": {
      "base_numbering": 1,
      "nav_menu": {},
      "number_sections": true,
      "sideBar": true,
      "skip_h1_title": false,
      "title_cell": "Table of Contents",
      "title_sidebar": "Contents",
      "toc_cell": false,
      "toc_position": {},
      "toc_section_display": true,
      "toc_window_display": false
    },
    "varInspector": {
      "cols": {
        "lenName": 16,
        "lenType": 16,
        "lenVar": 40
      },
      "kernels_config": {
        "python": {
          "delete_cmd_postfix": "",
          "delete_cmd_prefix": "del ",
          "library": "var_list.py",
          "varRefreshCmd": "print(var_dic_list())"
        },
        "r": {
          "delete_cmd_postfix": ") ",
          "delete_cmd_prefix": "rm(",
          "library": "var_list.r",
          "varRefreshCmd": "cat(var_dic_list()) "
        }
      },
      "types_to_exclude": [
        "module",
        "function",
        "builtin_function_or_method",
        "instance",
        "_Feature"
      ],
      "window_display": false
    },
    "colab": {
      "provenance": []
    }
  },
  "nbformat": 4,
  "nbformat_minor": 5
}
